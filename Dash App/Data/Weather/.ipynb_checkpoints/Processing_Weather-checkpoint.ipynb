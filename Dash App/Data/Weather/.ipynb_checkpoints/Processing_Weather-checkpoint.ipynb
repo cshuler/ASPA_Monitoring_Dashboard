{
 "cells": [
  {
   "cell_type": "code",
   "execution_count": 132,
   "id": "2311d513",
   "metadata": {},
   "outputs": [],
   "source": [
    "import numpy as np\n",
    "import pandas as pd\n",
    "from datetime import datetime, timedelta\n",
    "import matplotlib.dates as dates\n",
    "import matplotlib.pyplot as plt"
   ]
  },
  {
   "cell_type": "code",
   "execution_count": 133,
   "id": "29620174",
   "metadata": {
    "scrolled": true
   },
   "outputs": [],
   "source": [
    "station_metadata = pd.read_csv('Weather_Station_Metadata.csv', header=0)\n",
    "station_metadata.drop(columns=['Time Resolution'], inplace=True)\n",
    "\n",
    "# Rainfall Data\n",
    "datasamples_weather = {}\n",
    "monthly_weather = {}\n",
    "\n",
    "datasamples_rainfall = {}\n",
    "monthly_rainfall = {}"
   ]
  },
  {
   "cell_type": "code",
   "execution_count": 134,
   "id": "20ec0362",
   "metadata": {},
   "outputs": [
    {
     "name": "stderr",
     "output_type": "stream",
     "text": [
      "C:\\Users\\achie\\AppData\\Local\\Temp\\ipykernel_17700\\297703622.py:4: DtypeWarning: Columns (10,11) have mixed types. Specify dtype option on import or set low_memory=False.\n",
      "  datasamples_weather[station_metadata.iloc[i]['Site_name']] = pd.read_csv(station_metadata.iloc[i]['Filename_Weather'],header=1,skiprows=[2,3])\n"
     ]
    }
   ],
   "source": [
    "#get data, resample all to monthly\n",
    "for i in range(len(station_metadata['Site_name'])):\n",
    "    try:\n",
    "        datasamples_weather[station_metadata.iloc[i]['Site_name']] = pd.read_csv(station_metadata.iloc[i]['Filename_Weather'],header=1,skiprows=[2,3])\n",
    "    \n",
    "        datasamples_weather[station_metadata.iloc[i]['Site_name']].replace(to_replace=' ', value=np.nan, inplace=True)\n",
    "        datasamples_weather[station_metadata.iloc[i]['Site_name']].fillna(0, inplace=True)\n",
    "        datasamples_weather[station_metadata.iloc[i]['Site_name']].drop(columns=['RECORD'], inplace=True)\n",
    "        \n",
    "        datasamples_weather[station_metadata.iloc[i]['Site_name']].rename(columns={\"TIMESTAMP\": \"DateTime\"}, inplace=True)\n",
    "        \n",
    "        datasamples_weather[station_metadata.iloc[i]['Site_name']][\"DateTime\"] = pd.to_datetime(datasamples_weather[station_metadata.iloc[i]['Site_name']][\"DateTime\"])\n",
    "    \n",
    "        for column in datasamples_weather[station_metadata.iloc[i]['Site_name']].columns[1:]:\n",
    "            datasamples_weather[station_metadata.iloc[i]['Site_name']][column] = datasamples_weather[station_metadata.iloc[i]['Site_name']][column].astype(float)\n",
    "    \n",
    "        monthly_weather[station_metadata.iloc[i]['Site_name']] = datasamples_weather[station_metadata.iloc[i]['Site_name']].resample('M', on='DateTime').mean()\n",
    "        monthly_weather[station_metadata.iloc[i]['Site_name']].fillna(0, inplace=True)\n",
    "    except:\n",
    "        continue\n",
    "        \n",
    "\n",
    "        \n",
    "for i in range(len(station_metadata['Site_name'])):    \n",
    "    try:\n",
    "        # Check and fix if airport data\n",
    "        if station_metadata.iloc[i]['Site_name'] == 'Airport':\n",
    "            datasamples_rainfall[station_metadata.iloc[i]['Site_name']] = pd.read_csv(station_metadata.iloc[i]['Filename_Rainfall'])\n",
    "            datasamples_rainfall[station_metadata.iloc[i]['Site_name']]['RNF_in'].replace(to_replace=' ', value=np.nan, inplace=True)\n",
    "            datasamples_rainfall[station_metadata.iloc[i]['Site_name']]['RNF_in'] = datasamples_rainfall[station_metadata.iloc[i]['Site_name']]['RNF_in'].astype(float)\n",
    "        else:\n",
    "            datasamples_rainfall[station_metadata.iloc[i]['Site_name']] = pd.read_csv(station_metadata.iloc[i]['Filename_Rainfall'], index_col=0)\n",
    "            \n",
    "        datasamples_rainfall[station_metadata.iloc[i]['Site_name']].fillna(0, inplace=True)\n",
    "        datasamples_rainfall[station_metadata.iloc[i]['Site_name']][\"DateTime\"] = pd.to_datetime(datasamples_rainfall[station_metadata.iloc[i]['Site_name']][\"DateTime\"])\n",
    "        monthly_rainfall[station_metadata.iloc[i]['Site_name']] = datasamples_rainfall[station_metadata.iloc[i]['Site_name']].resample('M', on='DateTime', origin='start').mean()\n",
    "        monthly_rainfall[station_metadata.iloc[i]['Site_name']].dropna(inplace=True)\n",
    "        if station_metadata.iloc[i]['Site_name'] == 'Aasu' or station_metadata.iloc[i]['Site_name'] == 'Afono':\n",
    "            monthly_rainfall[station_metadata.iloc[i]['Site_name']].drop(index=monthly_rainfall[station_metadata.iloc[i]['Site_name']].index[0], axis=0, inplace=True)\n",
    "    except:\n",
    "        continue\n",
    "        \n"
   ]
  },
  {
   "cell_type": "code",
   "execution_count": 135,
   "id": "a59d0120",
   "metadata": {},
   "outputs": [],
   "source": [
    "station_name_file = open('DataFileNames.txt', 'w')\n",
    "\n",
    "for i in range(len(station_metadata)):\n",
    "    name = str(station_metadata.iloc[i]['Site_name'])\n",
    "    station_name_file.write(name+'\\n')\n",
    "    column_file = open(name+'_column_names.txt', 'w')\n",
    "    try:\n",
    "        weather_columns = monthly_weather[name].columns[:]\n",
    "        for column in weather_columns:\n",
    "            x_dates = monthly_weather[name].index\n",
    "            x_num = dates.date2num(x_dates)\n",
    "            trend = np.polyfit(x_num, monthly_weather[name][column], deg=1)\n",
    "            fitting_function = np.poly1d(trend)\n",
    "            monthly_weather[name][str(column)+'_Linear_fit'] = fitting_function(x_num)\n",
    "            column_file.write(str(column)+'\\n')\n",
    "            monthly_weather[name].to_csv(name+'_'+str(column)+'_processed.csv', index=True, columns=[column, str(column)+'_Linear_fit'])\n",
    "    except:\n",
    "        pass\n",
    "    try:\n",
    "        rainfall_columns = monthly_rainfall[name].columns[:]\n",
    "        for column in rainfall_columns:\n",
    "            x_dates = monthly_rainfall[name].index\n",
    "            x_num = dates.date2num(x_dates)\n",
    "            trend = np.polyfit(x_num, monthly_rainfall[name][column], deg=1)\n",
    "            fitting_function = np.poly1d(trend)\n",
    "            monthly_rainfall[name][str(column)+'_Linear_fit'] = fitting_function(x_num)\n",
    "            column_file.write(str(column)+'\\n')\n",
    "            monthly_rainfall[name].to_csv(name+'_'+str(column)+'_processed.csv', index=True, columns=[column, str(column)+'_Linear_fit'])\n",
    "    except:\n",
    "        pass\n",
    "    column_file.close()\n",
    "station_name_file.close()"
   ]
  },
  {
   "cell_type": "code",
   "execution_count": null,
   "id": "e5a82295",
   "metadata": {},
   "outputs": [],
   "source": []
  }
 ],
 "metadata": {
  "kernelspec": {
   "display_name": "Python 3 (ipykernel)",
   "language": "python",
   "name": "python3"
  },
  "language_info": {
   "codemirror_mode": {
    "name": "ipython",
    "version": 3
   },
   "file_extension": ".py",
   "mimetype": "text/x-python",
   "name": "python",
   "nbconvert_exporter": "python",
   "pygments_lexer": "ipython3",
   "version": "3.10.9"
  }
 },
 "nbformat": 4,
 "nbformat_minor": 5
}
