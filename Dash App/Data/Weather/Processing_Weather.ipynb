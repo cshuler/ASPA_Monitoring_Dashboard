{
 "cells": [
  {
   "cell_type": "code",
   "execution_count": 12,
   "id": "2311d513",
   "metadata": {},
   "outputs": [],
   "source": [
    "import numpy as np\n",
    "import pandas as pd\n",
    "from datetime import datetime, timedelta\n",
    "import matplotlib.dates as dates\n",
    "import matplotlib.pyplot as plt"
   ]
  },
  {
   "cell_type": "code",
   "execution_count": 13,
   "id": "29620174",
   "metadata": {},
   "outputs": [],
   "source": [
    "station_metadata = pd.read_csv('Weather_Station_Metadata.csv', header=0)\n",
    "station_metadata.drop(columns=['Time Resolution'], inplace=True)\n",
    "\n",
    "# Rainfall Data\n",
    "datasamples_weather = []\n",
    "monthly_weather = []"
   ]
  },
  {
   "cell_type": "code",
   "execution_count": 14,
   "id": "20ec0362",
   "metadata": {},
   "outputs": [
    {
     "name": "stderr",
     "output_type": "stream",
     "text": [
      "C:\\Users\\achie\\AppData\\Local\\Temp\\ipykernel_30364\\120718780.py:5: DtypeWarning: Columns (10,11) have mixed types. Specify dtype option on import or set low_memory=False.\n",
      "  datasamples_weather.append(pd.read_csv(station_metadata.iloc[i]['Filename'],header=1,skiprows=[2,3]))\n"
     ]
    }
   ],
   "source": [
    "station_name_index_weather = {}\n",
    "\n",
    "#get data, resample all to monthly\n",
    "for i in range(len(station_metadata['Site_name'])):\n",
    "    datasamples_weather.append(pd.read_csv(station_metadata.iloc[i]['Filename'],header=1,skiprows=[2,3]))\n",
    "    \n",
    "    datasamples_weather[i].replace(to_replace=' ', value=np.nan, inplace=True)\n",
    "    datasamples_weather[i].fillna(0, inplace=True)\n",
    "    datasamples_weather[i].drop(columns=['RECORD'], inplace=True)\n",
    "    \n",
    "    datasamples_weather[i][\"TIMESTAMP\"] = pd.to_datetime(datasamples_weather[i][\"TIMESTAMP\"])\n",
    "    \n",
    "    for column in datasamples_weather[i].columns[1:]:\n",
    "        datasamples_weather[i][column] = datasamples_weather[i][column].astype(float)\n",
    "    \n",
    "    station_name_index_weather[station_metadata.iloc[i]['Site_name']] = i\n",
    "    monthly_weather.append(datasamples_weather[i].resample('M', on='TIMESTAMP').mean())\n",
    "    monthly_weather[i].fillna(0, inplace=True)"
   ]
  },
  {
   "cell_type": "code",
   "execution_count": 11,
   "id": "a59d0120",
   "metadata": {},
   "outputs": [],
   "source": [
    "station_name_file = open('DataFileNames.txt', 'w')\n",
    "for i in range(len(station_metadata)):\n",
    "    name = str(list(station_name_index_weather.keys())[i])\n",
    "    station_name_file.write(name+'\\n')\n",
    "    column_file = open(name+'_column_names.txt', 'w')\n",
    "    temp_columns = monthly_weather[i].columns[:]\n",
    "    for column in temp_columns:\n",
    "        x_dates = monthly_weather[i].index\n",
    "        x_num = dates.date2num(x_dates)\n",
    "        trend = np.polyfit(x_num, monthly_weather[i][column], deg=1)\n",
    "        fitting_function = np.poly1d(trend)\n",
    "        monthly_weather[i][str(column)+'_Linear_fit'] = fitting_function(x_num)\n",
    "        column_file.write(str(column)+'\\n')\n",
    "        monthly_weather[i].to_csv(name+'_'+str(column)+'_processed.csv', index=True, columns=[column, str(column)+'_Linear_fit'])\n",
    "    column_file.close()\n",
    "station_name_file.close()"
   ]
  },
  {
   "cell_type": "code",
   "execution_count": null,
   "id": "38fdfd03",
   "metadata": {},
   "outputs": [],
   "source": []
  }
 ],
 "metadata": {
  "kernelspec": {
   "display_name": "Python 3 (ipykernel)",
   "language": "python",
   "name": "python3"
  },
  "language_info": {
   "codemirror_mode": {
    "name": "ipython",
    "version": 3
   },
   "file_extension": ".py",
   "mimetype": "text/x-python",
   "name": "python",
   "nbconvert_exporter": "python",
   "pygments_lexer": "ipython3",
   "version": "3.10.9"
  }
 },
 "nbformat": 4,
 "nbformat_minor": 5
}
