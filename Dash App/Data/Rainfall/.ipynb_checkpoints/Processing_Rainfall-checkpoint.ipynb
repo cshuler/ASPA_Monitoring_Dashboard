{
 "cells": [
  {
   "cell_type": "code",
   "execution_count": 9,
   "id": "2311d513",
   "metadata": {},
   "outputs": [],
   "source": [
    "import numpy as np\n",
    "import pandas as pd\n",
    "from datetime import datetime, timedelta\n",
    "import matplotlib.dates as dates\n",
    "import matplotlib.pyplot as plt"
   ]
  },
  {
   "cell_type": "code",
   "execution_count": 10,
   "id": "29620174",
   "metadata": {},
   "outputs": [],
   "source": [
    "station_metadata = pd.read_csv(\"Rainfall_database_Metadata.csv\")\n",
    "station_metadata = station_metadata[station_metadata['Site_name'] != 'Poloa']\n",
    "station_metadata.drop(columns=['Source', 'Time Resolution'], inplace=True)\n",
    "\n",
    "# Rainfall Data\n",
    "datasamples_rainfall = []\n",
    "monthly_rainfall = []"
   ]
  },
  {
   "cell_type": "code",
   "execution_count": 11,
   "id": "90d8cdb7",
   "metadata": {},
   "outputs": [],
   "source": [
    "station_name_index_rainfall = {}\n",
    "\n",
    "#get data, resample all to monthly\n",
    "for i in range(len(station_metadata['Site_name'])):    \n",
    "    # Check and fix if airport data\n",
    "    if station_metadata.iloc[i]['Site_name'] == 'Airport':\n",
    "        datasamples_rainfall.append(pd.read_csv(station_metadata.iloc[i]['Filename']))\n",
    "        datasamples_rainfall[i]['RNF_in'].replace(to_replace=' ', value=np.nan, inplace=True)\n",
    "        datasamples_rainfall[i]['RNF_in'] = datasamples_rainfall[i]['RNF_in'].astype(float)\n",
    "    else:\n",
    "        datasamples_rainfall.append(pd.read_csv(station_metadata.iloc[i]['Filename'], index_col=0))\n",
    "            \n",
    "    datasamples_rainfall[i].fillna(0, inplace=True)\n",
    "    station_name_index_rainfall[station_metadata.iloc[i]['Site_name']] = i\n",
    "    datasamples_rainfall[i][\"DateTime\"] = pd.to_datetime(datasamples_rainfall[i][\"DateTime\"])\n",
    "    monthly_rainfall.append(datasamples_rainfall[i].resample('M', on='DateTime', origin='start').mean())\n",
    "    monthly_rainfall[i].dropna(inplace=True)\n",
    "    if station_metadata.iloc[i]['Site_name'] == 'Aasu' or station_metadata.iloc[i]['Site_name'] == 'Afono':\n",
    "        monthly_rainfall[i].drop(index=monthly_rainfall[i].index[0], axis=0, inplace=True)"
   ]
  },
  {
   "cell_type": "code",
   "execution_count": 12,
   "id": "da73eba0",
   "metadata": {},
   "outputs": [],
   "source": [
    "station_name_file = open('DataFileNames.txt', 'w')\n",
    "for i in range(len(monthly_rainfall)):\n",
    "    name = str(list(station_name_index_rainfall.keys())[i])\n",
    "    station_name_file.write(name+'\\n')\n",
    "    column_file = open(name+'_column_names.txt', 'w')\n",
    "    temp_columns = monthly_rainfall[i].columns[:]\n",
    "    for column in temp_columns:\n",
    "        x_dates = monthly_rainfall[i].index\n",
    "        x_num = dates.date2num(x_dates)\n",
    "        trend = np.polyfit(x_num, monthly_rainfall[i][column], deg=1)\n",
    "        fitting_function = np.poly1d(trend)\n",
    "        monthly_rainfall[i][str(column)+'_Linear_fit'] = fitting_function(x_num)\n",
    "        column_file.write(str(column)+'\\n')\n",
    "        monthly_rainfall[i].to_csv(name+'_'+str(column)+'_processed.csv', index=True, columns=[column, str(column)+'_Linear_fit'])\n",
    "    column_file.close()\n",
    "station_name_file.close()"
   ]
  },
  {
   "cell_type": "code",
   "execution_count": null,
   "id": "746554ff",
   "metadata": {},
   "outputs": [],
   "source": []
  }
 ],
 "metadata": {
  "kernelspec": {
   "display_name": "Python 3 (ipykernel)",
   "language": "python",
   "name": "python3"
  },
  "language_info": {
   "codemirror_mode": {
    "name": "ipython",
    "version": 3
   },
   "file_extension": ".py",
   "mimetype": "text/x-python",
   "name": "python",
   "nbconvert_exporter": "python",
   "pygments_lexer": "ipython3",
   "version": "3.10.9"
  }
 },
 "nbformat": 4,
 "nbformat_minor": 5
}
