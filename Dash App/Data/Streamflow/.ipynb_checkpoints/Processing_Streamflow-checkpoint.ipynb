{
 "cells": [
  {
   "cell_type": "code",
   "execution_count": 7,
   "id": "2311d513",
   "metadata": {},
   "outputs": [],
   "source": [
    "import numpy as np\n",
    "import pandas as pd\n",
    "from datetime import datetime, timedelta\n",
    "import matplotlib.dates as dates"
   ]
  },
  {
   "cell_type": "code",
   "execution_count": 8,
   "id": "29620174",
   "metadata": {},
   "outputs": [],
   "source": [
    "# Streamflow Data\n",
    "datasamples_streamflow = pd.read_csv(\"ALL_15min_Q_m3ps.csv\")\n",
    "datasamples_streamflow[\"DateTime\"] = pd.to_datetime(datasamples_streamflow[\"DateTime\"])\n",
    "\n",
    "monthly_streamflow = datasamples_streamflow.resample('M', on='DateTime').mean()"
   ]
  },
  {
   "cell_type": "code",
   "execution_count": 9,
   "id": "c551c16c",
   "metadata": {},
   "outputs": [],
   "source": [
    "streamflow_columns = open('DataFileNames.txt', 'w')\n",
    "for column in monthly_streamflow.columns:\n",
    "    column_file = open(column[:-5]+'_column_names.txt', 'w')\n",
    "    streamflow_columns.write(str(column[:-5])+'\\n')\n",
    "    temp_frame = pd.DataFrame(monthly_streamflow[column].copy(deep=True))\n",
    "    temp_frame['m3ps'] = temp_frame[column]\n",
    "    temp_frame.dropna(inplace=True)\n",
    "    temp_frame.drop(columns=column, inplace=True)\n",
    "    temp_frame['m3ps_Linear_fit'] = np.poly1d(np.polyfit(dates.date2num(temp_frame.index), \n",
    "                   temp_frame[column], deg=1))(dates.date2num(temp_frame.index))\n",
    "    temp_frame.to_csv(str(column)+'_processed.csv', index=True)\n",
    "    column_file.write('m3ps\\n')\n",
    "    column_file.close()\n",
    "streamflow_columns.close()"
   ]
  },
  {
   "cell_type": "code",
   "execution_count": null,
   "id": "05e4ec32",
   "metadata": {},
   "outputs": [],
   "source": []
  }
 ],
 "metadata": {
  "kernelspec": {
   "display_name": "Python 3 (ipykernel)",
   "language": "python",
   "name": "python3"
  },
  "language_info": {
   "codemirror_mode": {
    "name": "ipython",
    "version": 3
   },
   "file_extension": ".py",
   "mimetype": "text/x-python",
   "name": "python",
   "nbconvert_exporter": "python",
   "pygments_lexer": "ipython3",
   "version": "3.10.9"
  }
 },
 "nbformat": 4,
 "nbformat_minor": 5
}
